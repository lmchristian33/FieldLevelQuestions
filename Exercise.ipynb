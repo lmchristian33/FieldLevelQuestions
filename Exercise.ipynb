{
 "cells": [
  {
   "cell_type": "code",
   "execution_count": 2,
   "metadata": {},
   "outputs": [
    {
     "data": {
      "text/html": [
       "<style>.container { width:98% !important; }</style>"
      ],
      "text/plain": [
       "<IPython.core.display.HTML object>"
      ]
     },
     "metadata": {},
     "output_type": "display_data"
    }
   ],
   "source": [
    "from IPython.display import display, HTML, Markdown\n",
    "display(HTML(\"<style>.container { width:98% !important; }</style>\"))\n",
    "\n",
    "import pandas as pd\n",
    "pd.set_option(\"display.max_columns\",999)\n",
    "pd.options.display.max_rows = 9999\n",
    "pd.set_option('display.float_format', lambda x: '%.3f' % x)"
   ]
  },
  {
   "cell_type": "code",
   "execution_count": 3,
   "metadata": {},
   "outputs": [
    {
     "data": {
      "text/html": [
       "<div>\n",
       "<style scoped>\n",
       "    .dataframe tbody tr th:only-of-type {\n",
       "        vertical-align: middle;\n",
       "    }\n",
       "\n",
       "    .dataframe tbody tr th {\n",
       "        vertical-align: top;\n",
       "    }\n",
       "\n",
       "    .dataframe thead th {\n",
       "        text-align: right;\n",
       "    }\n",
       "</style>\n",
       "<table border=\"1\" class=\"dataframe\">\n",
       "  <thead>\n",
       "    <tr style=\"text-align: right;\">\n",
       "      <th></th>\n",
       "      <th>LogId</th>\n",
       "      <th>EmailSentDateTimeUtc</th>\n",
       "      <th>EmailCampaignId</th>\n",
       "      <th>EmailOpenedDateTimeUtc</th>\n",
       "      <th>EmailClickedDateTimeUtc</th>\n",
       "      <th>UserId</th>\n",
       "      <th>ZipCode</th>\n",
       "      <th>AddressData</th>\n",
       "    </tr>\n",
       "  </thead>\n",
       "  <tbody>\n",
       "    <tr>\n",
       "      <th>0</th>\n",
       "      <td>208728980120</td>\n",
       "      <td>2019-07-31 15:13:25.817</td>\n",
       "      <td>792229022220</td>\n",
       "      <td>NaN</td>\n",
       "      <td>NaN</td>\n",
       "      <td>851332105693</td>\n",
       "      <td>NaN</td>\n",
       "      <td>NaN</td>\n",
       "    </tr>\n",
       "    <tr>\n",
       "      <th>1</th>\n",
       "      <td>292563123584</td>\n",
       "      <td>2019-08-02 02:15:52.447</td>\n",
       "      <td>866429603262</td>\n",
       "      <td>2019-08-02 15:16:01.7533333</td>\n",
       "      <td>NaN</td>\n",
       "      <td>369293054977</td>\n",
       "      <td>NaN</td>\n",
       "      <td>NaN</td>\n",
       "    </tr>\n",
       "    <tr>\n",
       "      <th>2</th>\n",
       "      <td>72552047640</td>\n",
       "      <td>2019-08-07 16:21:37.293</td>\n",
       "      <td>383130475294</td>\n",
       "      <td>NaN</td>\n",
       "      <td>NaN</td>\n",
       "      <td>938684493058</td>\n",
       "      <td>NaN</td>\n",
       "      <td>NaN</td>\n",
       "    </tr>\n",
       "    <tr>\n",
       "      <th>3</th>\n",
       "      <td>1089121462891</td>\n",
       "      <td>2019-08-07 16:38:03.323</td>\n",
       "      <td>792229022220</td>\n",
       "      <td>NaN</td>\n",
       "      <td>NaN</td>\n",
       "      <td>50233193142</td>\n",
       "      <td>NaN</td>\n",
       "      <td>NaN</td>\n",
       "    </tr>\n",
       "    <tr>\n",
       "      <th>4</th>\n",
       "      <td>828770719378</td>\n",
       "      <td>2019-08-12 11:45:43.293</td>\n",
       "      <td>479810600058</td>\n",
       "      <td>NaN</td>\n",
       "      <td>NaN</td>\n",
       "      <td>369293054977</td>\n",
       "      <td>NaN</td>\n",
       "      <td>NaN</td>\n",
       "    </tr>\n",
       "  </tbody>\n",
       "</table>\n",
       "</div>"
      ],
      "text/plain": [
       "           LogId     EmailSentDateTimeUtc  EmailCampaignId  \\\n",
       "0   208728980120  2019-07-31 15:13:25.817     792229022220   \n",
       "1   292563123584  2019-08-02 02:15:52.447     866429603262   \n",
       "2    72552047640  2019-08-07 16:21:37.293     383130475294   \n",
       "3  1089121462891  2019-08-07 16:38:03.323     792229022220   \n",
       "4   828770719378  2019-08-12 11:45:43.293     479810600058   \n",
       "\n",
       "        EmailOpenedDateTimeUtc EmailClickedDateTimeUtc        UserId  ZipCode  \\\n",
       "0                          NaN                     NaN  851332105693      NaN   \n",
       "1  2019-08-02 15:16:01.7533333                     NaN  369293054977      NaN   \n",
       "2                          NaN                     NaN  938684493058      NaN   \n",
       "3                          NaN                     NaN   50233193142      NaN   \n",
       "4                          NaN                     NaN  369293054977      NaN   \n",
       "\n",
       "  AddressData  \n",
       "0         NaN  \n",
       "1         NaN  \n",
       "2         NaN  \n",
       "3         NaN  \n",
       "4         NaN  "
      ]
     },
     "metadata": {},
     "output_type": "display_data"
    },
    {
     "data": {
      "text/html": [
       "<div>\n",
       "<style scoped>\n",
       "    .dataframe tbody tr th:only-of-type {\n",
       "        vertical-align: middle;\n",
       "    }\n",
       "\n",
       "    .dataframe tbody tr th {\n",
       "        vertical-align: top;\n",
       "    }\n",
       "\n",
       "    .dataframe thead th {\n",
       "        text-align: right;\n",
       "    }\n",
       "</style>\n",
       "<table border=\"1\" class=\"dataframe\">\n",
       "  <thead>\n",
       "    <tr style=\"text-align: right;\">\n",
       "      <th></th>\n",
       "      <th>UserId</th>\n",
       "      <th>DateOfActivityPST</th>\n",
       "      <th>ActivityCount</th>\n",
       "    </tr>\n",
       "  </thead>\n",
       "  <tbody>\n",
       "    <tr>\n",
       "      <th>0</th>\n",
       "      <td>241710509395</td>\n",
       "      <td>2019-09-24</td>\n",
       "      <td>29</td>\n",
       "    </tr>\n",
       "    <tr>\n",
       "      <th>1</th>\n",
       "      <td>241710509395</td>\n",
       "      <td>2020-09-11</td>\n",
       "      <td>60</td>\n",
       "    </tr>\n",
       "    <tr>\n",
       "      <th>2</th>\n",
       "      <td>435228414681</td>\n",
       "      <td>2018-01-06</td>\n",
       "      <td>12</td>\n",
       "    </tr>\n",
       "    <tr>\n",
       "      <th>3</th>\n",
       "      <td>435228414681</td>\n",
       "      <td>2018-04-20</td>\n",
       "      <td>20</td>\n",
       "    </tr>\n",
       "    <tr>\n",
       "      <th>4</th>\n",
       "      <td>435228414681</td>\n",
       "      <td>2018-05-10</td>\n",
       "      <td>136</td>\n",
       "    </tr>\n",
       "  </tbody>\n",
       "</table>\n",
       "</div>"
      ],
      "text/plain": [
       "         UserId DateOfActivityPST  ActivityCount\n",
       "0  241710509395        2019-09-24             29\n",
       "1  241710509395        2020-09-11             60\n",
       "2  435228414681        2018-01-06             12\n",
       "3  435228414681        2018-04-20             20\n",
       "4  435228414681        2018-05-10            136"
      ]
     },
     "metadata": {},
     "output_type": "display_data"
    }
   ],
   "source": [
    "df_emails = pd.read_csv('email_data.csv',delimiter=',')\n",
    "display(df_emails.head())\n",
    "\n",
    "df_activity = pd.read_csv('activity_data.csv',delimiter=',')\n",
    "display(df_activity.head())"
   ]
  },
  {
   "cell_type": "code",
   "execution_count": 6,
   "metadata": {},
   "outputs": [],
   "source": [
    "###Data Frames:\n",
    "##email_data:\n",
    "#LogId\tA unique number used to represent each individual email that was sent\n",
    "#EmailSentDateTimeUtc\tThe date and time the email was sent in coordinated universal time\n",
    "#EmailCampaignId\tA unique number used to represent each email campaign. Multiple users can receive emails multiple times from the same email campaign.\n",
    "#EmailOpenedDateTimeUtc\tThe date and time the email was opened in coordinated universal time (UTC). Null if the user did not open the email\n",
    "#EmailClickedDateTimeUtc\tThe date and time in coordinated universal time (UTC) the 'call to action' button or link in the email was clicked by the user. Null if the user did not click anything in the email.\n",
    "#UserId\tA unique number used to represent each user. The number is assigned in ascending order as users register at FieldLevel, e.g. the x < y implies x registered before y.\n",
    "#AddressData\tA string in JSON format. May be null as not all users have provided an address. The field contains the 5 digit zip code of an address the user provided. Note the format of the JSON object varies. A zipcode will always be identified by the key 'ZipCode'. Some 'ZipCode' keys are duplicated. Some have null values. Some are preceeded by extranious letters.\n",
    "\n",
    "##activity_data:\n",
    "#UserId\tA unique number used to represent each user that is assigned in ascending order as users register at FieldLevel\n",
    "#DateOfActivityPST\tA date a user made an authenticated request to our servers in pacific standard time (PST).\n",
    "#ActivityCount\tThe number of pages/requests the user made on that day. Users who spend more time on FieldLevel have a higher activity count."
   ]
  },
  {
   "cell_type": "code",
   "execution_count": 5,
   "metadata": {},
   "outputs": [
    {
     "name": "stdout",
     "output_type": "stream",
     "text": [
      "Number of rows in Email Dataframe: 474,163\n",
      "Number of rows in Activity Dataframe: 4,559,973\n",
      "Number of total emails sent if log is 3% of emails: 15,805,433\n"
     ]
    }
   ],
   "source": [
    "#How many rows are in the two datasets? If the log of emails represents 3% of the emails we sent over this period, \n",
    "#how many emails did we send? (use python to print the numbers and display them nicely with commas)\n",
    "\n",
    "#numbers = \"{:,}\".format(5000000)\n",
    "\n",
    "#Finding Number of Rows and Changing Format of Number for Each Dataset:\n",
    "Email_numrows=len(df_emails) #use len() function to find number of rows in Email df\n",
    "Email_numFORMAT = \"{:,}\".format(Email_numrows) #{:,} shows to put ',' between the numbers then use .format(variable) to add comas to number: xxx,xxx\n",
    "Activity_numrows=len(df_activity) #use len() function to find number of rows in Activity df\n",
    "Activity_numFORMAT = \"{:,}\".format(Activity_numrows) #{:,} shows to put ',' between the numbers then use .format(variable) to add comas to number: xxx,xxx\n",
    "print(\"Number of rows in Email Dataframe:\",Email_numFORMAT)\n",
    "print(\"Number of rows in Activity Dataframe:\",Activity_numFORMAT)\n",
    "\n",
    "#Find Number of Total Emails Sent if Log is 3%:\n",
    "solve=round(Email_numrows/.03) #formula: solve*.03=num rows. Use round to get whole number, emails can not be decimals\n",
    "solve_FORMAT = \"{:,}\".format(solve) #{:,} shows to put ',' between the numbers then use .format(variable) to add comas to number: xxx,xxx\n",
    "print(\"Number of total emails sent if log is 3% of emails:\",solve_FORMAT)"
   ]
  },
  {
   "cell_type": "code",
   "execution_count": 7,
   "metadata": {},
   "outputs": [
    {
     "name": "stdout",
     "output_type": "stream",
     "text": [
      "Most recent email sent: 04/19/2021 06:45 PST\n",
      "Earliest email sent: 01/03/2018 20:29 PST\n"
     ]
    }
   ],
   "source": [
    "#What are the earliest and most recent dates of emails sent in this dataset in California time (Pacific Standard Time Zone)? \n",
    "#(use python to print the date in format mm/dd/yyy hour:minute in 24 hour time)\n",
    "\n",
    "#NOTE:Coordinated Universal Time is 7/8 hours ahead of Pacific Time\n",
    "#EmailSentDateTimeUtc- df_email\n",
    "\n",
    "#Import needed packages:\n",
    "import datetime\n",
    "import pytz\n",
    "\n",
    "#Establishing the timezone as (PST) and localizing to give it the timezone information:\n",
    "d = datetime.datetime.now()#Get time now\n",
    "timezone = pytz.timezone(\"America/Los_Angeles\") #State timezone is PST using pytz.timezone\n",
    "d_aware = timezone.localize(d)#Change the current time to PST time by timezone.localize()\n",
    "d_aware.tzinfo\n",
    "\n",
    "#Finding the Date of the Most Recent Email Sent and Changing to PST:\n",
    "most_recent=df_emails['EmailSentDateTimeUtc'].max() #use max() function to find most recent email from Emails df\n",
    "utc_mr = pytz.utc.localize(datetime.datetime.strptime(most_recent, \"%Y-%m-%d %H:%M:%S.%f\")) #Use strptime since varible is a string and include the format variable is in (%Y-%m-%d %H:%M:%S.%f)\n",
    "#Use localize to state value is in UTC\n",
    "pst_mr = utc_mr.astimezone(pytz.timezone(\"America/Los_Angeles\")) #Converting the UTC to PST by astimezone and pytz.timezone(timezone you want)\n",
    "#print(utc_mr.isoformat()) #Checker: UTC: Shows that times are the same just the timezones are adjusted\n",
    "#print(pst_mr.isoformat()) #Checker: PST: Shows that times are the same just the timezones are adjusted\n",
    "print(\"Most recent email sent:\",pst_mr.strftime(\"%m/%d/%Y %H:%M\"),\"PST\")#Use strftime to change the format of the variable from the one inputted originally to mm/dd/yyyy hh:mm\n",
    "\n",
    "\n",
    "##Code below changes the format of the date and time but leaves it in UTC\n",
    "#mrFORMAT=datetime.datetime.strptime(most_recent, \"%Y-%m-%d %H:%M:%S.%f\") #use datetime and strptime(since string) to be able to change format. Include variable and the original format\n",
    "#print(mrFORMAT.strftime(\"%m/%d/%Y %H:%M\")) #strftime and indicate new format\n",
    "\n",
    "#Finding the Date of the Earliest Email Sent and Changing to PST:\n",
    "earliest=df_emails['EmailSentDateTimeUtc'].min() #use min function to find earliest email from Emails df\n",
    "utc_e = pytz.utc.localize(datetime.datetime.strptime(earliest, \"%Y-%m-%d %H:%M:%S.%f\"))#Use strptime since varible is a string and include the format variable is in (%Y-%m-%d %H:%M:%S.%f)\n",
    "#Use localize to state value is in UTC\n",
    "pst_e = utc_e.astimezone(pytz.timezone(\"America/Los_Angeles\")) #Converting the UTC to PST by astimezone and pytz.timezone(timezone you want)\n",
    "#print(utc_e.isoformat()) #Checker: UTC: Shows that times are the same just the timezones are adjusted\n",
    "#print(pst_e.isoformat()) #Checker: PST: Shows that times are the same just the timezones are adjusted\n",
    "print(\"Earliest email sent:\",pst_e.strftime(\"%m/%d/%Y %H:%M\"),\"PST\")#Use strftime to change the format of the variable from the one inputted originally to mm/dd/yyyy hh:mm\n",
    "\n",
    "##Code below changes the format of the date and time but leaves it in UTC\n",
    "#eFORMAT=datetime.datetime.strptime(earliest, \"%Y-%m-%d %H:%M:%S.%f\")#use datetime and strptime(since string) to be able to change format. Include variable and the format it is in\n",
    "#print(eFORMAT.strftime(\"%m/%d/%Y %H:%M\"))#strftime and indicate new format\n"
   ]
  },
  {
   "cell_type": "code",
   "execution_count": 8,
   "metadata": {},
   "outputs": [
    {
     "name": "stdout",
     "output_type": "stream",
     "text": [
      "Zip Code    Number of Emails\n",
      "63301.000    312\n",
      "33801.000    310\n",
      "34210.000    299\n",
      "38301.000    295\n",
      "67460.000    285\n",
      "95971.000    277\n",
      "42301.000    266\n",
      "36104.000    254\n",
      "40769.000    234\n",
      "85225.000    229\n",
      "Name: ZipCode, dtype: int64\n"
     ]
    }
   ],
   "source": [
    "#Which 10 zip codes receive the most emails and how many emails do they receive?\n",
    "\n",
    "#NOTE: ZipCode- df_email\n",
    "\n",
    "#Find the 10 Zip Codes who Recieved the most Emails:\n",
    "counted=df_emails['ZipCode'].value_counts() #Use value.counts() to Count number of emails per zip code. Ranks in High to Low order\n",
    "print(\"Zip Code    Number of Emails\")#Print label with the data\n",
    "print(counted.head(10)) #Use head() function with 10 to show the top 10 largest number of emails and their corresponding zip codes\n",
    "\n"
   ]
  },
  {
   "cell_type": "code",
   "execution_count": 9,
   "metadata": {},
   "outputs": [
    {
     "data": {
      "image/png": "[encoded data removed]",
      "text/plain": [
       "<Figure size 432x288 with 2 Axes>"
      ]
     },
     "metadata": {
      "needs_background": "light"
     },
     "output_type": "display_data"
    }
   ],
   "source": [
    "#Plot two lines on a single graph.\n",
    "#-total distinct users who were sent at least 1 email by month and year.\n",
    "#-the monthly percentage of users who were sent an email and were active the same day\n",
    "\n",
    "#Import needed packages:\n",
    "import matplotlib.pyplot as plt\n",
    "import datetime\n",
    "import numpy as np\n",
    "import matplotlib.ticker as mtick\n",
    "from matplotlib.dates import DateFormatter\n",
    "\n",
    "\n",
    "#counted=df_emails['UserId'].value_counts() #use value_counts() to count each User Id\n",
    "#print(counted)\n",
    "\n",
    "#Grouping Dataframe to find the Total Number of Users per Month who Recieved at Least One Email:\n",
    "df_emails['EmailSentDateTimeUtc'] = pd.to_datetime(df_emails['EmailSentDateTimeUtc']) #Use to_datetime to change EmailSentDateTimeUtc variable to DateTimeIndex. \n",
    "#Need variable in DateTime Index to be able to use variable as a key to group dataframe by\n",
    "newframe=df_emails.groupby(pd.Grouper(key='EmailSentDateTimeUtc', axis=0, freq='M'))['UserId'].nunique()\n",
    "#Use groupby() to group the dataframe. Use Grouper() and specify EmailSentDateTimeUtc as the key. Change freq to 'M' to specify the grouping being done by month\n",
    "#Include UserId at the end and nunique() to give counts of total unique UserId's for each month\n",
    "\n",
    "#print(newframe)\n",
    "\n",
    "#Grouping Dataframe to find the Total Number of Active Users per Month:\n",
    "df_emails['EmailClickedDateTimeUtc'] = pd.to_datetime(df_emails['EmailClickedDateTimeUtc'])#Use to_datetime to change EmailClickedDateTimeUtc variable to DateTimeIndex. \n",
    "#Need variable in DateTime Index to be able to use variable as a key to group dataframe by\n",
    "newframe2=df_emails.groupby(pd.Grouper(key='EmailClickedDateTimeUtc', axis=0, freq='M'))['UserId'].nunique() \n",
    "#Use groupby() to group the dataframe. Use Grouper() and specify EmailClickedDateTimeUtc as the key. Change freq to 'M' to specify the grouping being done by month\n",
    "#Include UserId at the end and nunique() to give counts of total unique UserId's for each month\n",
    "\n",
    "#print(newframe2)\n",
    "\n",
    "#Finding the Monthly Percentage of Users who were Active and Received an Email:\n",
    "newframe3=(newframe2/newframe)#Divides the number of active users per month by the total number of users per month\n",
    "#Multiplying by 100 and adding % sign will be added in code for graphic\n",
    "\n",
    "#print(newframe3)\n",
    "\n",
    "#Creating the Graphic:\n",
    "fig,ax = plt.subplots()#Use subplots() to create the Shell of the figure\n",
    "ax.plot(newframe, color=\"darkslategray\")#Use plot() to plot information from newframe series(created above) as a line plot and change color of the line to dark slate gray\n",
    "ax.set_xlabel(\"Months During Years 2018-2021\",fontsize=11)#Use set_xlabel() to add x axis label with 11 font size\n",
    "ax.set_ylabel(\"Number of Users who \\nReceived at Least One Email\",color=\"darkslategray\",fontsize=11)#Use set_ylabel() to add y axis label with 11 font size. \n",
    "#Change color to dark slate gray to match with the color of the corresponding line for easy viewing\n",
    "ax.set_title(\"Comparing Total Number of Distinct Users with \\n Pecercentage of Active Users who Received at least One Email \",fontsize=12)#Use set_title() to add title\n",
    "ax2=ax.twinx()#Use twinx() to create a twin axis sharing the x axis. Adds a second y axis that is different from the first y axis\n",
    "ax2.plot(newframe3,color=\"darkgray\")#Use plot() to plot information from newframe3 series(created above) as a line plot and change color of the line to dark gray\n",
    "ax2.set_ylabel(\"Percentage of Active Users who \\nReceived at Least One Email\",color=\"darkgray\",fontsize=11)#Use set_ylabel() to add y axis label with 11 font size. \n",
    "#Change color to dark gray to match with the color of the corresponding line for easy viewing\n",
    "ax2.yaxis.set_major_formatter(mtick.PercentFormatter(xmax=1, decimals=None, symbol='%', is_latex=False))#use set_major_formatter() and mtick.PercentFormatter() to change the second y axis values to percentages\n",
    "date_form = DateFormatter(\"%m-%y\")#Use DateFormatter() to create a new format for the date labels on the x axis. Format: mm-yy\n",
    "ax2.xaxis.set_major_formatter(date_form)#Use set_major_formatter() to change the date labels on the x axis to the new format created above\n",
    "plt.show()#Show final graphic\n",
    "\n",
    "\n"
   ]
  }
 ],
 "metadata": {
  "kernelspec": {
   "display_name": "Python 3 (ipykernel)",
   "language": "python",
   "name": "python3"
  },
  "language_info": {
   "codemirror_mode": {
    "name": "ipython",
    "version": 3
   },
   "file_extension": ".py",
   "mimetype": "text/x-python",
   "name": "python",
   "nbconvert_exporter": "python",
   "pygments_lexer": "ipython3",
   "version": "3.9.7"
  }
 },
 "nbformat": 4,
 "nbformat_minor": 4
}
